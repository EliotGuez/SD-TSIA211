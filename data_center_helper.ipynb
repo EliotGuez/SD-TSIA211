{
 "cells": [
  {
   "cell_type": "markdown",
   "metadata": {},
   "source": [
    "# Computer lab : Let’s reverse-engineer the data center"
   ]
  },
  {
   "cell_type": "code",
   "execution_count": 75,
   "metadata": {},
   "outputs": [],
   "source": [
    "import numpy as np\n",
    "import matplotlib.pyplot as plt\n",
    "import pandas as pd"
   ]
  },
  {
   "cell_type": "code",
   "execution_count": 76,
   "metadata": {},
   "outputs": [],
   "source": [
    "#Load data\n",
    "data_matrix_train, COP_train, data_matrix_test, COP_test, names = np.load('data_center_data_matrix.npy', allow_pickle=True)"
   ]
  },
  {
   "cell_type": "code",
   "execution_count": 77,
   "metadata": {},
   "outputs": [],
   "source": [
    "# Loading raw data\n",
    "data = pd.read_csv('Raw_Dataset_May.csv')\n",
    "\n",
    "def name_to_subcategory_and_details(col_name):\n",
    "    if np.isreal(col_name):\n",
    "        col_name = names[col_name]\n",
    "    indices = np.nonzero((data['NAME'] == col_name).values)[0]\n",
    "    if len(indices) > 0:\n",
    "        subcategory = data['SUBCATEGORY'].iloc[[indices[0]]].values[0]\n",
    "        details = data['DETAILS'].iloc[[indices[0]]].values[0]\n",
    "        return subcategory, details\n",
    "    else:\n",
    "        print('unknown name')"
   ]
  },
  {
   "cell_type": "markdown",
   "metadata": {},
   "source": [
    "### 3 Least squares"
   ]
  },
  {
   "cell_type": "markdown",
   "metadata": {},
   "source": [
    "##### **Question 3.1**"
   ]
  },
  {
   "cell_type": "markdown",
   "metadata": {},
   "source": [
    "We have : \n",
    "\\begin{align*}\n",
    "Aw = \\tilde{x}(t)^{\\intercal} w_1 + w_0 - y(t) \\cdot \\tilde{x}(t)^{\\intercal} w_2\n",
    "\\end{align*}\n",
    "and $Aw = b $ and $b=y(t)$  \n",
    "hence\n",
    "\\begin{align*}\n",
    "y(t) + y(t) \\cdot \\tilde{x}(t)^{\\intercal} w_2 = \\tilde{x}(t)^{\\intercal} w_1 + w_0 \\\\\n",
    "y(t)( 1+\\tilde{x}(t)^{\\intercal} w_2 ) = \\tilde{x}(t)^{\\intercal} w_1 + w_0 \\\\\n",
    "\\end{align*}\n",
    "We have also :\n",
    "$\\tilde{x}(t)^{\\intercal} w_2 = w_2^{\\intercal}\\tilde{x}(t)$ because the scalar product is symetric.\n",
    "Therefor we get the following solution :\n",
    "\\begin{align*}\n",
    "y(t)= \\frac {w_1^{\\intercal}\\tilde{x}(t) + w_0 } { w_2^{\\intercal}\\tilde{x}(t) +1}\\\\\n",
    "\\end{align*}"
   ]
  },
  {
   "cell_type": "markdown",
   "metadata": {},
   "source": [
    "##### **Question 3.2**"
   ]
  },
  {
   "cell_type": "code",
   "execution_count": 78,
   "metadata": {},
   "outputs": [],
   "source": [
    "# Constructing matrices for min_w ||A w - b||_2**2\n",
    "\n",
    "matrix_mean = np.mean(data_matrix_train, axis=0)\n",
    "M = data_matrix_train - matrix_mean\n",
    "matrix_std = np.std(M, axis=0)\n",
    "M = M / matrix_std\n",
    "\n",
    "A = np.hstack([M, np.ones((M.shape[0],1)), -(M.T * COP_train[:,3]).T])\n",
    "b = COP_train[:,3] #KPI 4"
   ]
  },
  {
   "cell_type": "code",
   "execution_count": 79,
   "metadata": {},
   "outputs": [],
   "source": [
    "def score(A,b,w):\n",
    "    residuals= A@w-b\n",
    "    return 1/2 * np.linalg.norm(residuals, ord=2)**2"
   ]
  },
  {
   "cell_type": "code",
   "execution_count": 80,
   "metadata": {},
   "outputs": [
    {
     "data": {
      "text/plain": [
       "3.3773566030175728e-25"
      ]
     },
     "execution_count": 80,
     "metadata": {},
     "output_type": "execute_result"
    }
   ],
   "source": [
    "sol = np.linalg.lstsq(A, b, rcond=None)[0]\n",
    "sol\n",
    "score(A,b,sol)"
   ]
  },
  {
   "cell_type": "markdown",
   "metadata": {},
   "source": [
    "##### **Question 3.3**"
   ]
  },
  {
   "cell_type": "code",
   "execution_count": 81,
   "metadata": {},
   "outputs": [
    {
     "name": "stdout",
     "output_type": "stream",
     "text": [
      "140952.17552310223\n",
      "122.17911408068046\n"
     ]
    }
   ],
   "source": [
    "# Constructing matrices for the test set\n",
    "M_test = (data_matrix_test - matrix_mean) / matrix_std\n",
    "A_test = np.hstack([M_test, np.ones((M_test.shape[0],1)), -(M_test.T * COP_test[:,3]).T])\n",
    "b_test = COP_test[:,3]\n",
    "\n",
    "print(score(A_test,b_test,sol))\n",
    "print(np.linalg.norm(b))"
   ]
  },
  {
   "cell_type": "markdown",
   "metadata": {},
   "source": [
    "Le test n'est pas du tout efficace.\n"
   ]
  },
  {
   "cell_type": "markdown",
   "metadata": {},
   "source": [
    "##### **Question 3.4**"
   ]
  },
  {
   "cell_type": "markdown",
   "metadata": {},
   "source": [
    "On utilise la régression de ridge"
   ]
  },
  {
   "cell_type": "code",
   "execution_count": 82,
   "metadata": {},
   "outputs": [
    {
     "data": {
      "text/plain": [
       "array([-0.01238313,  0.05780406, -0.00127775, ...,  0.01590558,\n",
       "       -0.03567897,  0.0131232 ])"
      ]
     },
     "execution_count": 82,
     "metadata": {},
     "output_type": "execute_result"
    }
   ],
   "source": [
    "lamb = 100\n",
    "\n",
    "#regression de ridge avec lambda = 100\n",
    "\n",
    "sol_ridge = np.linalg.lstsq(A.T@A+lamb*np.eye(A.shape[1]), A.T@b, rcond=None)[0]\n",
    "sol_ridge"
   ]
  },
  {
   "cell_type": "code",
   "execution_count": 83,
   "metadata": {},
   "outputs": [
    {
     "name": "stdout",
     "output_type": "stream",
     "text": [
      "54340.396471043765\n"
     ]
    }
   ],
   "source": [
    "print(score(A_test,b_test,sol_ridge))"
   ]
  },
  {
   "cell_type": "markdown",
   "metadata": {},
   "source": [
    "Le résultat est bien meilleur que sans régularisation"
   ]
  },
  {
   "cell_type": "markdown",
   "metadata": {},
   "source": [
    "##### **Question 3.5**"
   ]
  },
  {
   "cell_type": "markdown",
   "metadata": {},
   "source": [
    "\\begin{align*}\n",
    "f_1(w + \\delta{w}) &= \\frac{1}{2} ||(A(w+\\delta{w})-b)||^2 + \\frac {\\lambda}{2} ||w + \\delta{w} ||^2\\\\\n",
    "&= \\frac {1} {2}  (||(A(w)-b)||^2 + ||A\\delta{w}||^2 + 2 \\langle Aw - b, A\\delta{w} \\rangle ) +  \\frac {\\lambda}{2} (||w||^2+||\\delta{w}||^2+ 2 \\langle w, \\delta{w} \\rangle ) \\\\\n",
    "&= f_1(w) +  \\langle Aw - b, A\\delta{w} \\rangle + \\frac {1} {2}||A\\delta{w}||^2 + \\frac {\\lambda}{2}(||\\delta{w}||^2+ 2 \\langle w, \\delta{w} \\rangle ) \\\\\n",
    "&= f_1(w) + \\langle Aw - b, A\\delta{w} \\rangle + \\lambda \\langle w, \\delta{w} \\rangle + o(\\delta{w} ) \\\\\n",
    "&= f_1(w) + \\langle A^T(Aw - b) + \\lambda w, \\delta{w} \\rangle + o(\\delta{w} ) \\\\\n",
    "\\end{align*}\n",
    "\n",
    "Ainsi, le gradient de  f est $ \\nabla{f_1}(w) = (A^TA + \\lambda Id )w - A^Tb\\\\$\n",
    "et la hessienne est : $\\nabla^2{f_1}(w) = A^TA + \\lambda Id \\\\$\n",
    "$A^TA$ est symétrique positive donc $\\nabla^2{f_1}(w)$ est la fonction est convexe."
   ]
  },
  {
   "cell_type": "markdown",
   "metadata": {},
   "source": [
    "##### **Question 3.6**"
   ]
  },
  {
   "cell_type": "code",
   "execution_count": 84,
   "metadata": {},
   "outputs": [
    {
     "name": "stdout",
     "output_type": "stream",
     "text": [
      "4173.004962499687\n"
     ]
    }
   ],
   "source": [
    "# Function f1 and its gradient\n",
    "def f1(x):\n",
    "    return 1/2* np.linalg.norm(A@x-b)**2 + lamb/2 * np.linalg.norm(x)**2\n",
    "\n",
    "def gradient_f1(x):\n",
    "    return (A.T.dot(A.dot( x )- b) + lamb * x )\n",
    "\n",
    "def gradient_f1_2(x,a1,a2):\n",
    "    return a1.dot(x) + a2\n",
    "\n",
    "\n",
    "# Gradient Descent\n",
    "def gradient_descent(gradient_step_size, max_iter, x0= np.zeros(A.shape[1])):\n",
    "    for i in range(max_iter):\n",
    "        g= gradient_f1(x0)\n",
    "        w= x0 - gradient_step_size * g\n",
    "    return w\n",
    "\n",
    "\n",
    "def gradient_descent_2(grad_f, x0, alpha, epsilon, max_iter, lamb=200, threshold=1):\n",
    "    x = x0\n",
    "    const = A.T.dot(b)\n",
    "    const2 = A.T.dot(A) - lamb*np.eye(A.shape[1])\n",
    "    g = gradient_f1_2(x,const2,const)\n",
    "\n",
    "    test = True\n",
    "    thresh_iter = max_iter\n",
    "    while np.linalg.norm(g) > epsilon and max_iter > 0:\n",
    "        if np.linalg.norm(g) < threshold and test:\n",
    "            thresh_iter -= max_iter \n",
    "            test = False\n",
    "            print(np.linalg.norm(g))\n",
    "        x = x - alpha * g\n",
    "        max_iter -= 1\n",
    "        g = grad_f(x, const2, const)\n",
    "    return x,max_iter, thresh_iter\n",
    "\n",
    "pas = 1 / (np.linalg.norm(A.T @ A) + lamb)\n",
    "# sol, iter, thresh_iter = gradient_descent(gradient_f1, np.zeros(A.shape[1]), pas, 1e-3 , 100000)\n",
    "# sol,iter, thresh_iter \n",
    "\n",
    "sol = gradient_descent(pas, max_iter = 10000)\n",
    "print(score(A_test,b_test,sol))"
   ]
  },
  {
   "cell_type": "markdown",
   "metadata": {},
   "source": [
    "## 4 **Regularization for a sparse model**"
   ]
  },
  {
   "cell_type": "markdown",
   "metadata": {},
   "source": [
    "##### **Question 4.1**"
   ]
  },
  {
   "cell_type": "markdown",
   "metadata": {},
   "source": [
    "$F_2 = \\frac{1}{2} \\|Aw - b\\|^2 + \\lambda \\|w\\|_1 = f_2 + g_2$ with $f_2 =  \\frac{1}{2} \\|Aw - b\\|^2$ and $g_2 =  \\lambda \\|w\\|_1$.\n",
    "\n",
    "$f_2$ is differentiable and $\\nabla f_2 (w) = A^\\top A w  - A^\\top b$\n",
    "\n",
    "The proximal gradient operator of $g_2$ is $prox_{\\gamma g_2} (w) = \\text{sign}(w) \\max(|w| - \\gamma \\lambda, 0)$"
   ]
  },
  {
   "cell_type": "code",
   "execution_count": 107,
   "metadata": {},
   "outputs": [
    {
     "data": {
      "text/plain": [
       "14409.075467007513"
      ]
     },
     "execution_count": 107,
     "metadata": {},
     "output_type": "execute_result"
    }
   ],
   "source": [
    "lambda0 = 200\n",
    "\n",
    "def prox_g2(w, lamb, gamma):\n",
    "    w2 = np.sign(w) * np.maximum(np.abs(w) - gamma * lamb, 0)\n",
    "    return w2\n",
    "\n",
    "def f2(x):\n",
    "    return 1/2 * np.linalg.norm(A@x-b)**2\n",
    "\n",
    "def grad_f2(w):\n",
    "    return A.T @ (A @ w - b)\n",
    "\n",
    "def proximal_gradient_descent(grad_f, prox_g, x0, alpha, epsilon, max_iter, lamb=200, threshold=1):\n",
    "    x = x0\n",
    "    g = grad_f(x)\n",
    "    test = True\n",
    "    thresh_iter = max_iter\n",
    "    while np.linalg.norm(alpha * g) > epsilon and max_iter > 0:\n",
    "        if np.linalg.norm(g) < threshold and test:\n",
    "            thresh_iter -= max_iter\n",
    "            test = False\n",
    "        x = prox_g2(x - alpha * g, lamb, alpha)\n",
    "        max_iter -= 1\n",
    "        g = grad_f(x)\n",
    "    return x,max_iter, thresh_iter\n",
    "\n",
    "sol, iter, thresh_iter = proximal_gradient_descent(grad_f2, prox_g2, np.zeros(A.shape[1]), pas, 1 , 10000)\n",
    "score(A_test,b_test,sol)"
   ]
  },
  {
   "cell_type": "code",
   "execution_count": 109,
   "metadata": {},
   "outputs": [
    {
     "name": "stdout",
     "output_type": "stream",
     "text": [
      "10000\n"
     ]
    },
    {
     "name": "stderr",
     "output_type": "stream",
     "text": [
      "C:\\Users\\eliot\\AppData\\Local\\Temp\\ipykernel_23912\\1342052211.py:5: RuntimeWarning: overflow encountered in double_scalars\n",
      "  while f2(x_) > f2(x_k) + np.dot( x_ - x_k, grad_f2(x_k)) + 1/(2* gammaK)*np.linalg.norm(x_k - x_)**2:\n",
      "C:\\Users\\eliot\\AppData\\Local\\Temp\\ipykernel_23912\\1342052211.py:5: RuntimeWarning: invalid value encountered in double_scalars\n",
      "  while f2(x_) > f2(x_k) + np.dot( x_ - x_k, grad_f2(x_k)) + 1/(2* gammaK)*np.linalg.norm(x_k - x_)**2:\n",
      "C:\\Users\\eliot\\AppData\\Local\\Temp\\ipykernel_23912\\3889215407.py:10: RuntimeWarning: overflow encountered in matmul\n",
      "  return 1/2 * np.linalg.norm(A@x-b)**2\n",
      "C:\\Users\\eliot\\AppData\\Local\\Temp\\ipykernel_23912\\3889215407.py:10: RuntimeWarning: invalid value encountered in matmul\n",
      "  return 1/2 * np.linalg.norm(A@x-b)**2\n",
      "C:\\Users\\eliot\\AppData\\Local\\Temp\\ipykernel_23912\\3889215407.py:13: RuntimeWarning: overflow encountered in matmul\n",
      "  return A.T @ (A @ w - b)\n",
      "C:\\Users\\eliot\\AppData\\Local\\Temp\\ipykernel_23912\\3889215407.py:13: RuntimeWarning: invalid value encountered in matmul\n",
      "  return A.T @ (A @ w - b)\n"
     ]
    },
    {
     "name": "stdout",
     "output_type": "stream",
     "text": [
      "9900\n",
      "9800\n",
      "9700\n",
      "9600\n",
      "9500\n",
      "9400\n",
      "9300\n",
      "9200\n",
      "9100\n",
      "9000\n",
      "8900\n",
      "8800\n",
      "8700\n",
      "8600\n",
      "8500\n",
      "8400\n",
      "8300\n",
      "8200\n",
      "8100\n",
      "8000\n",
      "7900\n",
      "7800\n",
      "7700\n",
      "7600\n",
      "7500\n",
      "7400\n",
      "7300\n",
      "7200\n",
      "7100\n",
      "7000\n",
      "6900\n",
      "6800\n",
      "6700\n",
      "6600\n",
      "6500\n",
      "6400\n",
      "6300\n",
      "6200\n",
      "6100\n",
      "6000\n",
      "5900\n",
      "5800\n",
      "5700\n",
      "5600\n",
      "5500\n",
      "5400\n",
      "5300\n",
      "5200\n",
      "5100\n",
      "5000\n",
      "4900\n",
      "4800\n",
      "4700\n",
      "4600\n",
      "4500\n",
      "4400\n",
      "4300\n",
      "4200\n",
      "4100\n",
      "4000\n",
      "3900\n",
      "3800\n",
      "3700\n",
      "3600\n",
      "3500\n",
      "3400\n",
      "3300\n",
      "3200\n",
      "3100\n",
      "3000\n",
      "2900\n",
      "2800\n",
      "2700\n",
      "2600\n",
      "2500\n",
      "2400\n",
      "2300\n",
      "2200\n",
      "2100\n",
      "2000\n",
      "1900\n",
      "1800\n",
      "1700\n",
      "1600\n",
      "1500\n",
      "1400\n",
      "1300\n",
      "1200\n",
      "1100\n",
      "1000\n",
      "900\n",
      "800\n",
      "700\n",
      "600\n",
      "500\n",
      "400\n",
      "300\n",
      "200\n",
      "100\n"
     ]
    },
    {
     "data": {
      "text/plain": [
       "nan"
      ]
     },
     "execution_count": 109,
     "metadata": {},
     "output_type": "execute_result"
    }
   ],
   "source": [
    "def line_search(x_k, a=0.5,  lamb=200, beta = 0.5):\n",
    "\n",
    "    gammaK = beta * a\n",
    "    x_ = prox_g2(x_k - gammaK * grad_f2(x_k),lamb, gammaK) \n",
    "    while f2(x_) > f2(x_k) + np.dot( x_ - x_k, grad_f2(x_k)) + 1/(2* gammaK)*np.linalg.norm(x_k - x_)**2:\n",
    "        x_k = x_\n",
    "        gammaK *= a\n",
    "        x_= prox_g2(x_k - gammaK * grad_f2(x_k),lamb, gammaK)        \n",
    "    return x_,gammaK\n",
    "\n",
    "def proximal_gradient_descent_line_search(beta, max_iter, x0 = np.zeros(A.shape[1])):\n",
    "    x = x0\n",
    "    g = grad_f2(x)\n",
    "    while max_iter > 0:\n",
    "        if max_iter % 100 == 0:\n",
    "            print(max_iter)\n",
    "        x, alpha = line_search(x, beta)\n",
    "        max_iter -= 1\n",
    "        g = grad_f2(x)\n",
    "    return x,max_iter\n",
    "\n",
    "sol, iter = proximal_gradient_descent_line_search( 0.5,10000)\n",
    "score(A_test,b_test,sol)"
   ]
  },
  {
   "cell_type": "markdown",
   "metadata": {},
   "source": [
    "## 5. Choice of the regularization parameter"
   ]
  },
  {
   "cell_type": "code",
   "execution_count": null,
   "metadata": {
    "slideshow": {
     "slide_type": "fragment"
    }
   },
   "outputs": [
    {
     "name": "stdout",
     "output_type": "stream",
     "text": [
      "14409.075467007513\n",
      "14409.075467007513\n",
      "14409.075467007513\n",
      "14409.075467007513\n",
      "14409.075467007513\n",
      "14409.075467007513\n",
      "14409.075467007513\n",
      "14409.075467007513\n",
      "14409.075467007513\n",
      "14409.075467007513\n",
      "14409.075467007513\n",
      "14409.075467007513\n",
      "14409.075467007513\n",
      "14409.075467007513\n",
      "14409.075467007513\n",
      "14409.075467007513\n",
      "14409.075467007513\n",
      "14409.075467007513\n",
      "14409.075467007513\n",
      "14409.075467007513\n",
      "14409.075467007513\n",
      "14409.075467007513\n",
      "14409.075467007513\n",
      "14409.075467007513\n",
      "14409.075467007513\n",
      "14409.075467007513\n",
      "14409.075467007513\n",
      "14409.075467007513\n",
      "14409.075467007513\n",
      "14409.075467007513\n",
      "14409.075467007513\n",
      "14409.075467007513\n",
      "14409.075467007513\n",
      "14409.075467007513\n",
      "14409.075467007513\n",
      "14409.075467007513\n",
      "14409.075467007513\n",
      "14409.075467007513\n",
      "14409.075467007513\n",
      "14409.075467007513\n",
      "14409.075467007513\n",
      "14409.075467007513\n",
      "14409.075467007513\n",
      "14409.075467007513\n",
      "14409.075467007513\n",
      "14409.075467007513\n",
      "14409.075467007513\n",
      "14409.075467007513\n",
      "14409.075467007513\n",
      "14409.075467007513\n",
      "14409.075467007513\n",
      "14409.075467007513\n",
      "14409.075467007513\n",
      "14409.075467007513\n",
      "14409.075467007513\n",
      "14409.075467007513\n",
      "14409.075467007513\n",
      "14409.075467007513\n",
      "14409.075467007513\n",
      "14409.075467007513\n",
      "14409.075467007513\n",
      "14409.075467007513\n",
      "14409.075467007513\n",
      "14409.075467007513\n",
      "14409.075467007513\n",
      "14409.075467007513\n",
      "14409.075467007513\n",
      "14409.075467007513\n",
      "14409.075467007513\n",
      "14409.075467007513\n",
      "14409.075467007513\n",
      "14409.075467007513\n",
      "14409.075467007513\n",
      "14409.075467007513\n",
      "14409.075467007513\n",
      "14409.075467007513\n",
      "14409.075467007513\n",
      "14409.075467007513\n",
      "14409.075467007513\n",
      "14409.075467007513\n",
      "14409.075467007513\n",
      "14409.075467007513\n",
      "14409.075467007513\n",
      "14409.075467007513\n",
      "14409.075467007513\n",
      "14409.075467007513\n",
      "14409.075467007513\n",
      "14409.075467007513\n",
      "14409.075467007513\n",
      "14409.075467007513\n",
      "14409.075467007513\n",
      "14409.075467007513\n",
      "14409.075467007513\n",
      "14409.075467007513\n",
      "14409.075467007513\n",
      "14409.075467007513\n",
      "14409.075467007513\n",
      "14409.075467007513\n",
      "14409.075467007513\n",
      "12544.262110128657\n",
      "Best regularization parameter: 0.0029512665430652825\n",
      "Best 0-1 loss 12544.262110128657\n"
     ]
    },
    {
     "data": {
      "text/plain": [
       "[<matplotlib.lines.Line2D at 0x2a02ce1cfa0>]"
      ]
     },
     "execution_count": 13,
     "metadata": {},
     "output_type": "execute_result"
    },
    {
     "data": {
      "image/png": "[encoded data removed]",
      "text/plain": [
       "<Figure size 640x480 with 1 Axes>"
      ]
     },
     "metadata": {},
     "output_type": "display_data"
    }
   ],
   "source": [
    "# For conventional gradient descent with lasso regularization\n",
    "\n",
    "rho0 = 100\n",
    "a = 0.9\n",
    "K = 100\n",
    "\n",
    "parameters = [rho0 * a ** k for k in range(K)]\n",
    "scores = []\n",
    "\n",
    "for rho in parameters:\n",
    "    # sol, _, _ = gradient_descent_2(gradient_f1_2, np.zeros(A.shape[1]), pas, 1, 1000, lamb=rho)\n",
    "    sol, _, _ = proximal_gradient_descent(grad_f2, prox_g2, np.zeros(A.shape[1]), pas, 1 , 1000, rho=rho)\n",
    "    scores.append(score(A_test, b_test, sol))\n",
    "    print(scores[-1])\n",
    "\n",
    "scores = np.array(scores)\n",
    "print(\"Best regularization parameter:\", parameters[scores.argmin()])\n",
    "print(\"Best 0-1 loss\" , scores.min())\n",
    "\n",
    "plt.plot(parameters, scores)"
   ]
  },
  {
   "cell_type": "code",
   "execution_count": null,
   "metadata": {},
   "outputs": [],
   "source": []
  }
 ],
 "metadata": {
  "kernelspec": {
   "display_name": "Python 3",
   "language": "python",
   "name": "python3"
  },
  "language_info": {
   "codemirror_mode": {
    "name": "ipython",
    "version": 3
   },
   "file_extension": ".py",
   "mimetype": "text/x-python",
   "name": "python",
   "nbconvert_exporter": "python",
   "pygments_lexer": "ipython3",
   "version": "3.9.5"
  }
 },
 "nbformat": 4,
 "nbformat_minor": 2
}
